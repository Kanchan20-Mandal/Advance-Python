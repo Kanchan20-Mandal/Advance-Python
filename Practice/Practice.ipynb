{
 "cells": [
  {
   "cell_type": "markdown",
   "metadata": {},
   "source": [
    "### 1. Write a function that takes cat/dog as input and prints it sound functionality.\n",
    "### say example: cat says meow , dogs barks."
   ]
  },
  {
   "cell_type": "code",
   "execution_count": 13,
   "metadata": {},
   "outputs": [],
   "source": [
    "def animal():\n",
    "    anim = input(\"Enter cat\")\n",
    "    anim = anim.strip().lower()\n",
    "    if anim==\"cat\":\n",
    "        print(\"Meow\")\n",
    "    elif anim==\"dog\":\n",
    "        print(\"Bark\")\n",
    "    else:\n",
    "        print(\"invalid\")\n",
    "\n"
   ]
  },
  {
   "cell_type": "code",
   "execution_count": 19,
   "metadata": {},
   "outputs": [
    {
     "name": "stdout",
     "output_type": "stream",
     "text": [
      "Bark\n"
     ]
    }
   ],
   "source": [
    "animal()"
   ]
  },
  {
   "cell_type": "code",
   "execution_count": 31,
   "metadata": {},
   "outputs": [],
   "source": [
    "def animal1():\n",
    "    anim=input(\"Enter cat/dog\")\n",
    "    anim=anim.strip().upper()\n",
    "    if anim==\"CAT\":\n",
    "        print(\"Meow\")\n",
    "    elif anim==\"DOG\":\n",
    "        print(\"Bark\")\n",
    "    else:\n",
    "        print(\"invalid\")"
   ]
  },
  {
   "cell_type": "code",
   "execution_count": 32,
   "metadata": {},
   "outputs": [
    {
     "name": "stdout",
     "output_type": "stream",
     "text": [
      "Meow\n"
     ]
    }
   ],
   "source": [
    "animal1()"
   ]
  },
  {
   "cell_type": "markdown",
   "metadata": {},
   "source": [
    "### 2. Write a single line code to store even data from a range of 50 numbers in a list"
   ]
  },
  {
   "cell_type": "code",
   "execution_count": 37,
   "metadata": {},
   "outputs": [
    {
     "name": "stdout",
     "output_type": "stream",
     "text": [
      "[2, 4, 6, 8, 10, 12, 14, 16, 18, 20, 22, 24, 26, 28, 30, 32, 34, 36, 38, 40, 42, 44, 46, 48]\n"
     ]
    }
   ],
   "source": [
    "even_numbers = [i for i in range(1, 50) if i % 2 == 0 ]\n",
    "print(even_numbers)"
   ]
  },
  {
   "cell_type": "markdown",
   "metadata": {},
   "source": [
    "### 3. Create a class vehicle. Create instance attributes speed. Define a method 'accelerate' that takes accelerated speed as input parameter and  returns new speed as output i.e( speed + accelerated speed).\n",
    "    vehicle1 = vehicle(250)\n",
    "    newspd = vehicle1.accelerate(25)\n",
    "    print(newspd)\n",
    "    >> 275"
   ]
  },
  {
   "cell_type": "code",
   "execution_count": 39,
   "metadata": {},
   "outputs": [],
   "source": [
    "class vehicle:\n",
    "    def __init__(self,speed):\n",
    "        self.speed=speed\n",
    "    \n",
    "    def accelerate(self,accelerate_speed):\n",
    "        return self.speed + accelerate_speed\n",
    "        "
   ]
  },
  {
   "cell_type": "code",
   "execution_count": 40,
   "metadata": {},
   "outputs": [],
   "source": [
    "vehicle1=vehicle(250)"
   ]
  },
  {
   "cell_type": "code",
   "execution_count": 41,
   "metadata": {},
   "outputs": [],
   "source": [
    "newspd=vehicle1.accelerate(25)"
   ]
  },
  {
   "cell_type": "code",
   "execution_count": 42,
   "metadata": {},
   "outputs": [
    {
     "name": "stdout",
     "output_type": "stream",
     "text": [
      "275\n"
     ]
    }
   ],
   "source": [
    "print(newspd)"
   ]
  },
  {
   "cell_type": "markdown",
   "metadata": {},
   "source": [
    "### 4. Create a child Bus class  will inherit all of the attributes and methods of the parent Vehicle class. Create a bus class object/instance and display all the attributes of vehicle class."
   ]
  },
  {
   "cell_type": "code",
   "execution_count": 76,
   "metadata": {},
   "outputs": [],
   "source": [
    "class Vehicle:\n",
    "    def __init__(self,model):\n",
    "        self.model=model\n",
    "\n",
    "    def display(self):\n",
    "        print(f\"this model is {self.model}\")"
   ]
  },
  {
   "cell_type": "code",
   "execution_count": 77,
   "metadata": {},
   "outputs": [],
   "source": [
    "class Bus(Vehicle):\n",
    "\n",
    "   def __init__(self, model):\n",
    "    super().__init__(model)\n",
    "\n",
    "   def speed(self):\n",
    "      super().display()\n",
    "      print(f\"Its speed is 40km/hr\")\n",
    "      #print(f\"speed is 40km of {self.model}\")\n",
    "\n",
    "    "
   ]
  },
  {
   "cell_type": "code",
   "execution_count": 78,
   "metadata": {},
   "outputs": [],
   "source": [
    "Veh=Bus('abc')"
   ]
  },
  {
   "cell_type": "code",
   "execution_count": 82,
   "metadata": {},
   "outputs": [
    {
     "name": "stdout",
     "output_type": "stream",
     "text": [
      "this model is abc\n",
      "Its speed is 40km/hr\n"
     ]
    }
   ],
   "source": [
    "Veh.speed()"
   ]
  },
  {
   "cell_type": "code",
   "execution_count": 80,
   "metadata": {},
   "outputs": [
    {
     "data": {
      "text/plain": [
       "'abc'"
      ]
     },
     "execution_count": 80,
     "metadata": {},
     "output_type": "execute_result"
    }
   ],
   "source": [
    "Veh.model"
   ]
  },
  {
   "cell_type": "code",
   "execution_count": 81,
   "metadata": {},
   "outputs": [
    {
     "name": "stdout",
     "output_type": "stream",
     "text": [
      "this model is abc\n"
     ]
    }
   ],
   "source": [
    "Veh.display()"
   ]
  },
  {
   "cell_type": "markdown",
   "metadata": {},
   "source": [
    "### 5. Write a Python program to handle a ZeroDivisionError exception when dividing a number by zero."
   ]
  },
  {
   "cell_type": "code",
   "execution_count": 90,
   "metadata": {},
   "outputs": [],
   "source": [
    "def divide():\n",
    "    try:\n",
    "        a=int(input(\"Enter a number\"))\n",
    "        b=int(input(\"Enter another number\"))\n",
    "        c=a/b\n",
    "        return c\n",
    "    except Exception as e:\n",
    "        print(\"DONOT enter zero\")\n",
    "\n",
    "        "
   ]
  },
  {
   "cell_type": "code",
   "execution_count": 92,
   "metadata": {},
   "outputs": [
    {
     "name": "stdout",
     "output_type": "stream",
     "text": [
      "DONOT enter zero\n"
     ]
    }
   ],
   "source": [
    "d1=divide()"
   ]
  },
  {
   "cell_type": "code",
   "execution_count": null,
   "metadata": {},
   "outputs": [],
   "source": []
  }
 ],
 "metadata": {
  "kernelspec": {
   "display_name": "venv",
   "language": "python",
   "name": "python3"
  },
  "language_info": {
   "codemirror_mode": {
    "name": "ipython",
    "version": 3
   },
   "file_extension": ".py",
   "mimetype": "text/x-python",
   "name": "python",
   "nbconvert_exporter": "python",
   "pygments_lexer": "ipython3",
   "version": "3.13.1"
  }
 },
 "nbformat": 4,
 "nbformat_minor": 2
}
