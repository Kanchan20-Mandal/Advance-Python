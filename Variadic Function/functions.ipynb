{
 "cells": [
  {
   "cell_type": "markdown",
   "metadata": {},
   "source": [
    "## Variadic Function in python"
   ]
  },
  {
   "cell_type": "code",
   "execution_count": 3,
   "metadata": {},
   "outputs": [],
   "source": [
    "def add(a:int|float,b:int|float)->int|float:\n",
    "    c=a+b\n",
    "    return c"
   ]
  },
  {
   "cell_type": "code",
   "execution_count": null,
   "metadata": {},
   "outputs": [],
   "source": []
  },
  {
   "cell_type": "code",
   "execution_count": 4,
   "metadata": {},
   "outputs": [
    {
     "data": {
      "text/plain": [
       "7"
      ]
     },
     "execution_count": 4,
     "metadata": {},
     "output_type": "execute_result"
    }
   ],
   "source": [
    "# arguments input\n",
    "add(3,4)"
   ]
  },
  {
   "cell_type": "code",
   "execution_count": 5,
   "metadata": {},
   "outputs": [
    {
     "data": {
      "text/plain": [
       "6.5"
      ]
     },
     "execution_count": 5,
     "metadata": {},
     "output_type": "execute_result"
    }
   ],
   "source": [
    "add(4.5,2)"
   ]
  },
  {
   "cell_type": "code",
   "execution_count": 12,
   "metadata": {},
   "outputs": [
    {
     "data": {
      "text/plain": [
       "34"
      ]
     },
     "execution_count": 12,
     "metadata": {},
     "output_type": "execute_result"
    }
   ],
   "source": [
    "# Keyword arguments in python\n",
    "add(a=23, b=11)"
   ]
  },
  {
   "cell_type": "code",
   "execution_count": 13,
   "metadata": {},
   "outputs": [
    {
     "data": {
      "text/plain": [
       "23.8"
      ]
     },
     "execution_count": 13,
     "metadata": {},
     "output_type": "execute_result"
    }
   ],
   "source": [
    "add(a=11.5,b=12.3)"
   ]
  },
  {
   "cell_type": "markdown",
   "metadata": {},
   "source": [
    " ### Try to add 3 numbers with above code"
   ]
  },
  {
   "cell_type": "code",
   "execution_count": 14,
   "metadata": {},
   "outputs": [
    {
     "ename": "TypeError",
     "evalue": "add() takes 2 positional arguments but 3 were given",
     "output_type": "error",
     "traceback": [
      "\u001b[1;31m---------------------------------------------------------------------------\u001b[0m",
      "\u001b[1;31mTypeError\u001b[0m                                 Traceback (most recent call last)",
      "Cell \u001b[1;32mIn[14], line 1\u001b[0m\n\u001b[1;32m----> 1\u001b[0m \u001b[43madd\u001b[49m\u001b[43m(\u001b[49m\u001b[38;5;241;43m1\u001b[39;49m\u001b[43m,\u001b[49m\u001b[38;5;241;43m2\u001b[39;49m\u001b[43m,\u001b[49m\u001b[38;5;241;43m3\u001b[39;49m\u001b[43m)\u001b[49m\n",
      "\u001b[1;31mTypeError\u001b[0m: add() takes 2 positional arguments but 3 were given"
     ]
    }
   ],
   "source": [
    "add(1,2,3)"
   ]
  },
  {
   "cell_type": "markdown",
   "metadata": {},
   "source": [
    "\n",
    "## Create args inside function\n",
    "    *args - this will act like a tuple in python"
   ]
  },
  {
   "cell_type": "code",
   "execution_count": 15,
   "metadata": {},
   "outputs": [],
   "source": [
    "def function1(*args):\n",
    "    print(args)\n",
    "    print(type(args))\n",
    "    for i in args:\n",
    "        print(i)"
   ]
  },
  {
   "cell_type": "code",
   "execution_count": 17,
   "metadata": {},
   "outputs": [
    {
     "name": "stdout",
     "output_type": "stream",
     "text": [
      "(3, 4)\n",
      "<class 'tuple'>\n",
      "3\n",
      "4\n"
     ]
    }
   ],
   "source": [
    "function1(3,4)"
   ]
  },
  {
   "cell_type": "code",
   "execution_count": 18,
   "metadata": {},
   "outputs": [
    {
     "name": "stdout",
     "output_type": "stream",
     "text": [
      "('Kanchan', 28, 'Data scientist', 'B+ve')\n",
      "<class 'tuple'>\n",
      "Kanchan\n",
      "28\n",
      "Data scientist\n",
      "B+ve\n"
     ]
    }
   ],
   "source": [
    "function1(\"Kanchan\",28,\"Data scientist\",\"B+ve\")"
   ]
  },
  {
   "cell_type": "code",
   "execution_count": 19,
   "metadata": {},
   "outputs": [
    {
     "data": {
      "text/plain": [
       "list"
      ]
     },
     "execution_count": 19,
     "metadata": {},
     "output_type": "execute_result"
    }
   ],
   "source": [
    "a=[\"example\",True,False,12.5,11.2,13]\n",
    "type(a)"
   ]
  },
  {
   "cell_type": "markdown",
   "metadata": {},
   "source": [
    "### Upack a list using *list_name"
   ]
  },
  {
   "cell_type": "code",
   "execution_count": 20,
   "metadata": {},
   "outputs": [
    {
     "name": "stdout",
     "output_type": "stream",
     "text": [
      "('example', True, False, 12.5, 11.2, 13)\n",
      "<class 'tuple'>\n",
      "example\n",
      "True\n",
      "False\n",
      "12.5\n",
      "11.2\n",
      "13\n"
     ]
    }
   ],
   "source": [
    "function1(*a)"
   ]
  },
  {
   "cell_type": "markdown",
   "metadata": {},
   "source": [
    "## Given the cart products of a customer perform total billing of products"
   ]
  },
  {
   "cell_type": "code",
   "execution_count": 7,
   "metadata": {},
   "outputs": [],
   "source": [
    "c1=[\n",
    "    (\"Laptop\",65000,1),\n",
    "    (\"Mouse\",1500,2),\n",
    "    (\"Keyboard\",2000,1)\n",
    "]"
   ]
  },
  {
   "cell_type": "code",
   "execution_count": 8,
   "metadata": {},
   "outputs": [],
   "source": [
    "def billing(*args):\n",
    "    # Initialize total bill to 0\n",
    "    total_bill=0\n",
    "\n",
    "    # apply for loop as arguments\n",
    "    for name, price, qty in args:\n",
    "        subtotal=price*qty\n",
    "        total_bill= total_bill +subtotal\n",
    "        print(f\"Name:{name},Price:{price},Quantity:{qty}\")\n",
    "        print(f\"Subtotal: {subtotal} INR\")\n",
    "        print(\"\\n======================\\n\")\n",
    "\n",
    "# Print and return total bill\n",
    "    print(f\"Total Bill : {total_bill:.2f} INR\")\n",
    "    return total_bill\n",
    "          \n"
   ]
  },
  {
   "cell_type": "code",
   "execution_count": 9,
   "metadata": {},
   "outputs": [
    {
     "data": {
      "text/plain": [
       "[('Laptop', 65000, 1), ('Mouse', 1500, 2), ('Keyboard', 2000, 1)]"
      ]
     },
     "execution_count": 9,
     "metadata": {},
     "output_type": "execute_result"
    }
   ],
   "source": [
    "c1"
   ]
  },
  {
   "cell_type": "code",
   "execution_count": 10,
   "metadata": {},
   "outputs": [
    {
     "name": "stdout",
     "output_type": "stream",
     "text": [
      "Name:Laptop,Price:65000,Quantity:1\n",
      "Subtotal: 65000 INR\n",
      "\n",
      "======================\n",
      "\n",
      "Name:Mouse,Price:1500,Quantity:2\n",
      "Subtotal: 3000 INR\n",
      "\n",
      "======================\n",
      "\n",
      "Name:Keyboard,Price:2000,Quantity:1\n",
      "Subtotal: 2000 INR\n",
      "\n",
      "======================\n",
      "\n",
      "Total Bill : 70000.00 INR\n"
     ]
    }
   ],
   "source": [
    "t1=billing(*c1)"
   ]
  },
  {
   "cell_type": "code",
   "execution_count": 11,
   "metadata": {},
   "outputs": [
    {
     "name": "stdout",
     "output_type": "stream",
     "text": [
      "Name:Mobile,Price:30000,Quantity:2\n",
      "Subtotal: 60000 INR\n",
      "\n",
      "======================\n",
      "\n",
      "Name:Screen Guard,Price:200,Quantity:4\n",
      "Subtotal: 800 INR\n",
      "\n",
      "======================\n",
      "\n",
      "Name:Headphones,Price:2000,Quantity:1\n",
      "Subtotal: 2000 INR\n",
      "\n",
      "======================\n",
      "\n",
      "Name:Phone cover,Price:400,Quantity:2\n",
      "Subtotal: 800 INR\n",
      "\n",
      "======================\n",
      "\n",
      "Total Bill : 63600.00 INR\n"
     ]
    }
   ],
   "source": [
    "t2=billing(\n",
    "    (\"Mobile\", 30000, 2),\n",
    "    (\"Screen Guard\", 200, 4),\n",
    "    (\"Headphones\", 2000, 1),\n",
    "    (\"Phone cover\", 400, 2)\n",
    ")"
   ]
  },
  {
   "cell_type": "code",
   "execution_count": null,
   "metadata": {},
   "outputs": [],
   "source": []
  }
 ],
 "metadata": {
  "kernelspec": {
   "display_name": "venv",
   "language": "python",
   "name": "python3"
  },
  "language_info": {
   "codemirror_mode": {
    "name": "ipython",
    "version": 3
   },
   "file_extension": ".py",
   "mimetype": "text/x-python",
   "name": "python",
   "nbconvert_exporter": "python",
   "pygments_lexer": "ipython3",
   "version": "3.13.1"
  }
 },
 "nbformat": 4,
 "nbformat_minor": 2
}
