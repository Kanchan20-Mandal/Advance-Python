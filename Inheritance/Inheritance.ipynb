{
 "cells": [
  {
   "cell_type": "markdown",
   "metadata": {},
   "source": [
    "## Inheritance"
   ]
  },
  {
   "cell_type": "markdown",
   "metadata": {},
   "source": [
    "### Single Inheritance"
   ]
  },
  {
   "cell_type": "code",
   "execution_count": 1,
   "metadata": {},
   "outputs": [],
   "source": [
    "class person:\n",
    "    def __init__(self,name,age):\n",
    "        self.name=name\n",
    "        self.age=age\n",
    "\n",
    "    def introduce(self):\n",
    "        print(f\"Hi, I am {self.name} and I am {self.age} years old\")"
   ]
  },
  {
   "cell_type": "code",
   "execution_count": 2,
   "metadata": {},
   "outputs": [],
   "source": [
    "p1=person('raman',45)"
   ]
  },
  {
   "cell_type": "code",
   "execution_count": 3,
   "metadata": {},
   "outputs": [
    {
     "data": {
      "text/plain": [
       "'raman'"
      ]
     },
     "execution_count": 3,
     "metadata": {},
     "output_type": "execute_result"
    }
   ],
   "source": [
    "p1.name"
   ]
  },
  {
   "cell_type": "code",
   "execution_count": 4,
   "metadata": {},
   "outputs": [
    {
     "data": {
      "text/plain": [
       "45"
      ]
     },
     "execution_count": 4,
     "metadata": {},
     "output_type": "execute_result"
    }
   ],
   "source": [
    "p1.age"
   ]
  },
  {
   "cell_type": "code",
   "execution_count": 5,
   "metadata": {},
   "outputs": [
    {
     "name": "stdout",
     "output_type": "stream",
     "text": [
      "Hi, I am raman and I am 45 years old\n"
     ]
    }
   ],
   "source": [
    "p1.introduce()"
   ]
  },
  {
   "cell_type": "code",
   "execution_count": 7,
   "metadata": {},
   "outputs": [],
   "source": [
    "class employee(person):\n",
    "    pass\n"
   ]
  },
  {
   "cell_type": "code",
   "execution_count": 8,
   "metadata": {},
   "outputs": [],
   "source": [
    "emp1 = employee('thaman',34)"
   ]
  },
  {
   "cell_type": "code",
   "execution_count": 9,
   "metadata": {},
   "outputs": [
    {
     "data": {
      "text/plain": [
       "'thaman'"
      ]
     },
     "execution_count": 9,
     "metadata": {},
     "output_type": "execute_result"
    }
   ],
   "source": [
    "emp1.name"
   ]
  },
  {
   "cell_type": "code",
   "execution_count": 10,
   "metadata": {},
   "outputs": [
    {
     "data": {
      "text/plain": [
       "34"
      ]
     },
     "execution_count": 10,
     "metadata": {},
     "output_type": "execute_result"
    }
   ],
   "source": [
    "emp1.age"
   ]
  },
  {
   "cell_type": "code",
   "execution_count": 12,
   "metadata": {},
   "outputs": [
    {
     "name": "stdout",
     "output_type": "stream",
     "text": [
      "Hi, I am thaman and I am 34 years old\n"
     ]
    }
   ],
   "source": [
    "emp1.introduce()"
   ]
  },
  {
   "cell_type": "code",
   "execution_count": 13,
   "metadata": {},
   "outputs": [],
   "source": [
    "class employee(person):\n",
    "\n",
    "    def __init__(self,company):\n",
    "        self.company = company\n",
    "    \n",
    "    def work(self):\n",
    "        print(f\"Hi, I am working at {self.company}\")"
   ]
  },
  {
   "cell_type": "code",
   "execution_count": 15,
   "metadata": {},
   "outputs": [],
   "source": [
    "emp2=employee('wipro')"
   ]
  },
  {
   "cell_type": "code",
   "execution_count": 16,
   "metadata": {},
   "outputs": [
    {
     "data": {
      "text/plain": [
       "'wipro'"
      ]
     },
     "execution_count": 16,
     "metadata": {},
     "output_type": "execute_result"
    }
   ],
   "source": [
    "emp2.company"
   ]
  },
  {
   "cell_type": "code",
   "execution_count": 17,
   "metadata": {},
   "outputs": [
    {
     "ename": "AttributeError",
     "evalue": "'employee' object has no attribute 'name'",
     "output_type": "error",
     "traceback": [
      "\u001b[1;31m---------------------------------------------------------------------------\u001b[0m",
      "\u001b[1;31mAttributeError\u001b[0m                            Traceback (most recent call last)",
      "Cell \u001b[1;32mIn[17], line 1\u001b[0m\n\u001b[1;32m----> 1\u001b[0m \u001b[43memp2\u001b[49m\u001b[38;5;241;43m.\u001b[39;49m\u001b[43mname\u001b[49m\n",
      "\u001b[1;31mAttributeError\u001b[0m: 'employee' object has no attribute 'name'"
     ]
    }
   ],
   "source": [
    "emp2.name"
   ]
  },
  {
   "cell_type": "code",
   "execution_count": null,
   "metadata": {},
   "outputs": [],
   "source": [
    "# dO in this way to access all the attribute of parent class\n",
    "class employee(person):\n",
    "    def __init__(self, name, age,company):\n",
    "        super().__init__(name, age)\n",
    "        self.company=company\n",
    "\n",
    "    def work(self):\n",
    "        super().introduce()\n",
    "        print(f\"Hi, I am working at {self.company}\")"
   ]
  },
  {
   "cell_type": "code",
   "execution_count": 19,
   "metadata": {},
   "outputs": [],
   "source": [
    "emp2=employee('suman',38,'accenture')"
   ]
  },
  {
   "cell_type": "code",
   "execution_count": 20,
   "metadata": {},
   "outputs": [
    {
     "data": {
      "text/plain": [
       "38"
      ]
     },
     "execution_count": 20,
     "metadata": {},
     "output_type": "execute_result"
    }
   ],
   "source": [
    "emp2.age"
   ]
  },
  {
   "cell_type": "code",
   "execution_count": 21,
   "metadata": {},
   "outputs": [
    {
     "data": {
      "text/plain": [
       "'suman'"
      ]
     },
     "execution_count": 21,
     "metadata": {},
     "output_type": "execute_result"
    }
   ],
   "source": [
    "emp2.name"
   ]
  },
  {
   "cell_type": "code",
   "execution_count": 22,
   "metadata": {},
   "outputs": [
    {
     "name": "stdout",
     "output_type": "stream",
     "text": [
      "Hi, I am suman and I am 38 years old\n"
     ]
    }
   ],
   "source": [
    "emp2.introduce()"
   ]
  },
  {
   "cell_type": "code",
   "execution_count": 23,
   "metadata": {},
   "outputs": [
    {
     "data": {
      "text/plain": [
       "'accenture'"
      ]
     },
     "execution_count": 23,
     "metadata": {},
     "output_type": "execute_result"
    }
   ],
   "source": [
    "emp2.company"
   ]
  },
  {
   "cell_type": "code",
   "execution_count": 24,
   "metadata": {},
   "outputs": [
    {
     "name": "stdout",
     "output_type": "stream",
     "text": [
      "Hi, I am suman and I am 38 years old\n",
      "Hi, I am working at accenture\n"
     ]
    }
   ],
   "source": [
    "emp2.work()"
   ]
  },
  {
   "cell_type": "markdown",
   "metadata": {},
   "source": [
    "## Hierarchical(Multiple) Inheritance"
   ]
  },
  {
   "cell_type": "code",
   "execution_count": 25,
   "metadata": {},
   "outputs": [],
   "source": [
    "# parent class\n",
    "class garve_hyundai:\n",
    "    def __init__(self,name,location):\n",
    "        self.name=name\n",
    "        self.location=location\n",
    "    def greeting(self):\n",
    "        print(f\"Hello {self.name} sir/madam. Welcome to our showroom\")\n",
    "    \n",
    "    def models_info(self):\n",
    "        print(f\"We have latest models avaialble at our showroom like Grand i10 and Grand i20\")"
   ]
  },
  {
   "cell_type": "code",
   "execution_count": 26,
   "metadata": {},
   "outputs": [],
   "source": [
    "# child class: child1\n",
    "class grandi10(garve_hyundai):\n",
    "    def __init__(self, name, location,price_range):\n",
    "        super().__init__(name, location)\n",
    "        self.price_range=price_range\n",
    "\n",
    "    def enquiry_price(self):\n",
    "        super().greeting()\n",
    "        print(f\"Features of this model are ...... and on-road price is 10Lakhs\")\n",
    "        if self.price_range>10:\n",
    "            print(f\"Please check our best models falling under the same range:Grand i20\")\n",
    "    \n",
    "    def enquiry_models(self):\n",
    "        super().models_info()"
   ]
  },
  {
   "cell_type": "code",
   "execution_count": 27,
   "metadata": {},
   "outputs": [],
   "source": [
    "# child class: child2\n",
    "class grandi20(garve_hyundai):\n",
    "    def __init__(self,name,location,price_range):\n",
    "        super().__init__(name,location)\n",
    "        self.price_range=price_range\n",
    "        \n",
    "    def enquiry_price(self):\n",
    "        super().greeting()\n",
    "        print(f\"Features of this model are ...... and on-road price is 15Lakhs\")\n",
    "    \n",
    "    def enquiry_models(self):\n",
    "        super().models_info()\n"
   ]
  },
  {
   "cell_type": "code",
   "execution_count": 28,
   "metadata": {},
   "outputs": [],
   "source": [
    "gi10_1=grandi10('Baman','Wakad',12)"
   ]
  },
  {
   "cell_type": "code",
   "execution_count": 30,
   "metadata": {},
   "outputs": [
    {
     "data": {
      "text/plain": [
       "12"
      ]
     },
     "execution_count": 30,
     "metadata": {},
     "output_type": "execute_result"
    }
   ],
   "source": [
    "gi10_1.price_range"
   ]
  },
  {
   "cell_type": "code",
   "execution_count": 31,
   "metadata": {},
   "outputs": [
    {
     "data": {
      "text/plain": [
       "'Baman'"
      ]
     },
     "execution_count": 31,
     "metadata": {},
     "output_type": "execute_result"
    }
   ],
   "source": [
    "gi10_1.name"
   ]
  },
  {
   "cell_type": "code",
   "execution_count": 32,
   "metadata": {},
   "outputs": [
    {
     "data": {
      "text/plain": [
       "'Wakad'"
      ]
     },
     "execution_count": 32,
     "metadata": {},
     "output_type": "execute_result"
    }
   ],
   "source": [
    "gi10_1.location"
   ]
  },
  {
   "cell_type": "code",
   "execution_count": 33,
   "metadata": {},
   "outputs": [
    {
     "name": "stdout",
     "output_type": "stream",
     "text": [
      "Hello Baman sir/madam. Welcome to our showroom\n",
      "Features of this model are ...... and on-road price is 10Lakhs\n",
      "Please check our best models falling under the same range:Grand i20\n"
     ]
    }
   ],
   "source": [
    "gi10_1.enquiry_price()"
   ]
  },
  {
   "cell_type": "code",
   "execution_count": 35,
   "metadata": {},
   "outputs": [
    {
     "name": "stdout",
     "output_type": "stream",
     "text": [
      "We have latest models avaialble at our showroom like Grand i10 and Grand i20\n"
     ]
    }
   ],
   "source": [
    "gi10_1.enquiry_models()"
   ]
  },
  {
   "cell_type": "code",
   "execution_count": 36,
   "metadata": {},
   "outputs": [],
   "source": [
    "\n",
    "gi10_2 = grandi10('naman','rahatani',8)"
   ]
  },
  {
   "cell_type": "code",
   "execution_count": 37,
   "metadata": {},
   "outputs": [
    {
     "name": "stdout",
     "output_type": "stream",
     "text": [
      "Hello naman sir/madam. Welcome to our showroom\n",
      "Features of this model are ...... and on-road price is 10Lakhs\n"
     ]
    }
   ],
   "source": [
    "gi10_2.enquiry_price()"
   ]
  },
  {
   "cell_type": "code",
   "execution_count": 38,
   "metadata": {},
   "outputs": [
    {
     "name": "stdout",
     "output_type": "stream",
     "text": [
      "We have latest models avaialble at our showroom like Grand i10 and Grand i20\n"
     ]
    }
   ],
   "source": [
    "gi10_2.enquiry_models()"
   ]
  },
  {
   "cell_type": "code",
   "execution_count": 39,
   "metadata": {},
   "outputs": [],
   "source": [
    "\n",
    "gi20_1 = grandi20('chaman','kalewadi',14)"
   ]
  },
  {
   "cell_type": "code",
   "execution_count": 40,
   "metadata": {},
   "outputs": [
    {
     "data": {
      "text/plain": [
       "'chaman'"
      ]
     },
     "execution_count": 40,
     "metadata": {},
     "output_type": "execute_result"
    }
   ],
   "source": [
    "gi20_1.name"
   ]
  },
  {
   "cell_type": "code",
   "execution_count": 41,
   "metadata": {},
   "outputs": [
    {
     "name": "stdout",
     "output_type": "stream",
     "text": [
      "Hello chaman sir/madam. Welcome to our showroom\n"
     ]
    }
   ],
   "source": [
    "# parent class methods\n",
    "gi20_1.greeting()"
   ]
  },
  {
   "cell_type": "code",
   "execution_count": 42,
   "metadata": {},
   "outputs": [
    {
     "name": "stdout",
     "output_type": "stream",
     "text": [
      "We have latest models avaialble at our showroom like Grand i10 and Grand i20\n"
     ]
    }
   ],
   "source": [
    "# parent class methods\n",
    "gi20_1.models_info()"
   ]
  },
  {
   "cell_type": "code",
   "execution_count": 43,
   "metadata": {},
   "outputs": [
    {
     "name": "stdout",
     "output_type": "stream",
     "text": [
      "Hello chaman sir/madam. Welcome to our showroom\n",
      "Features of this model are ...... and on-road price is 15Lakhs\n"
     ]
    }
   ],
   "source": [
    "# methods of respective class \n",
    "gi20_1.enquiry_price()"
   ]
  },
  {
   "cell_type": "code",
   "execution_count": 44,
   "metadata": {},
   "outputs": [
    {
     "name": "stdout",
     "output_type": "stream",
     "text": [
      "We have latest models avaialble at our showroom like Grand i10 and Grand i20\n"
     ]
    }
   ],
   "source": [
    "\n",
    "# methods of respective class \n",
    "gi20_1.enquiry_models()"
   ]
  },
  {
   "cell_type": "markdown",
   "metadata": {},
   "source": [
    "## Multilevel Inheritance"
   ]
  },
  {
   "cell_type": "code",
   "execution_count": 1,
   "metadata": {},
   "outputs": [],
   "source": [
    "# parent class\n",
    "class Employee:\n",
    "    def __init__(self,name,employeeid):\n",
    "        self.name=name\n",
    "        self.employeeid=employeeid\n",
    "\n",
    "    def get_employee_info(self):\n",
    "        return f\"Name:{self.name},Employee ID:{self.employeeid}\""
   ]
  },
  {
   "cell_type": "code",
   "execution_count": 4,
   "metadata": {},
   "outputs": [],
   "source": [
    "# child class,parent class: Employee\n",
    "class Manager(Employee):\n",
    "\n",
    "    def __init__(self, name, employeeid,department):\n",
    "        super().__init__(name, employeeid)\n",
    "        self.department=department\n",
    "\n",
    "    def get_manager_info(self):\n",
    "        #self.info = super().get_employee_info()\n",
    "        return f\"{self.get_employee_info()},Department:{self.department}\""
   ]
  },
  {
   "cell_type": "code",
   "execution_count": 5,
   "metadata": {},
   "outputs": [],
   "source": [
    "# child class,Parent:Manager\n",
    "class ProjectManager(Manager):\n",
    "\n",
    "    def __init__(self, name, employeeid, department,Project):\n",
    "        super().__init__(name, employeeid, department)\n",
    "        self.project=Project\n",
    "\n",
    "    def get_project_info(self):\n",
    "        return f\"{self.get_manager_info()},Project:{self.project}\"\n"
   ]
  },
  {
   "cell_type": "code",
   "execution_count": 6,
   "metadata": {},
   "outputs": [],
   "source": [
    "\n",
    "manager1 = Manager('Raman',12678,'IT')"
   ]
  },
  {
   "cell_type": "code",
   "execution_count": 7,
   "metadata": {},
   "outputs": [
    {
     "data": {
      "text/plain": [
       "'Name:Raman,Employee ID:12678'"
      ]
     },
     "execution_count": 7,
     "metadata": {},
     "output_type": "execute_result"
    }
   ],
   "source": [
    "emp_data=manager1.get_employee_info()\n",
    "emp_data"
   ]
  },
  {
   "cell_type": "code",
   "execution_count": 8,
   "metadata": {},
   "outputs": [
    {
     "data": {
      "text/plain": [
       "'Name:Raman,Employee ID:12678,Department:IT'"
      ]
     },
     "execution_count": 8,
     "metadata": {},
     "output_type": "execute_result"
    }
   ],
   "source": [
    "emp_dept_data=manager1.get_manager_info()\n",
    "emp_dept_data"
   ]
  },
  {
   "cell_type": "code",
   "execution_count": 9,
   "metadata": {},
   "outputs": [],
   "source": [
    "\n",
    "project_manager = ProjectManager('Priya',891234,'Sales','Sales90')"
   ]
  },
  {
   "cell_type": "code",
   "execution_count": 10,
   "metadata": {},
   "outputs": [
    {
     "data": {
      "text/plain": [
       "'Name:Priya,Employee ID:891234,Department:Sales,Project:Sales90'"
      ]
     },
     "execution_count": 10,
     "metadata": {},
     "output_type": "execute_result"
    }
   ],
   "source": [
    "emp_project_data=project_manager.get_project_info()\n",
    "emp_project_data"
   ]
  },
  {
   "cell_type": "markdown",
   "metadata": {},
   "source": [
    "## Hybrid Inheritance\n",
    "    2 parents and a single child"
   ]
  },
  {
   "cell_type": "code",
   "execution_count": 11,
   "metadata": {},
   "outputs": [],
   "source": [
    "class skating:\n",
    "    def __init__(self,name):\n",
    "        self.name=name\n",
    "\n",
    "    def req_skating(self):\n",
    "         print(f\"Hi {self.name}. We provide basic skating gears. please bring safety gears from your side\")"
   ]
  },
  {
   "cell_type": "code",
   "execution_count": 12,
   "metadata": {},
   "outputs": [],
   "source": [
    "class basketball:\n",
    "    def __init__(self):\n",
    "        pass\n",
    "    def req_basketball(self):\n",
    "        print(f\"Hi  We provide basketball. please wear sports uniform for this game\")"
   ]
  },
  {
   "cell_type": "code",
   "execution_count": 13,
   "metadata": {},
   "outputs": [],
   "source": [
    "class student(skating,basketball):\n",
    "    pass"
   ]
  },
  {
   "cell_type": "code",
   "execution_count": 14,
   "metadata": {},
   "outputs": [],
   "source": [
    "student1=student('thaman')"
   ]
  },
  {
   "cell_type": "code",
   "execution_count": 15,
   "metadata": {},
   "outputs": [
    {
     "data": {
      "text/plain": [
       "'thaman'"
      ]
     },
     "execution_count": 15,
     "metadata": {},
     "output_type": "execute_result"
    }
   ],
   "source": [
    "student1.name"
   ]
  },
  {
   "cell_type": "code",
   "execution_count": 16,
   "metadata": {},
   "outputs": [
    {
     "name": "stdout",
     "output_type": "stream",
     "text": [
      "Hi thaman. We provide basic skating gears. please bring safety gears from your side\n"
     ]
    }
   ],
   "source": [
    "\n",
    "student1.req_skating()"
   ]
  },
  {
   "cell_type": "code",
   "execution_count": 19,
   "metadata": {},
   "outputs": [
    {
     "name": "stdout",
     "output_type": "stream",
     "text": [
      "Hi  We provide basketball. please wear sports uniform for this game\n"
     ]
    }
   ],
   "source": [
    "student1.req_basketball()"
   ]
  },
  {
   "cell_type": "code",
   "execution_count": null,
   "metadata": {},
   "outputs": [],
   "source": []
  }
 ],
 "metadata": {
  "kernelspec": {
   "display_name": "venv",
   "language": "python",
   "name": "python3"
  },
  "language_info": {
   "codemirror_mode": {
    "name": "ipython",
    "version": 3
   },
   "file_extension": ".py",
   "mimetype": "text/x-python",
   "name": "python",
   "nbconvert_exporter": "python",
   "pygments_lexer": "ipython3",
   "version": "3.13.1"
  }
 },
 "nbformat": 4,
 "nbformat_minor": 2
}
